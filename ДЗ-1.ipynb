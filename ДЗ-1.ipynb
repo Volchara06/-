{
 "cells": [
  {
   "cell_type": "code",
   "execution_count": 6,
   "id": "07e981b5-d6d4-44d7-a983-fc285017d036",
   "metadata": {},
   "outputs": [
    {
     "name": "stdout",
     "output_type": "stream",
     "text": [
      "0:\ttest: 0.5265123\tbest: 0.5265123 (0)\ttotal: 24.1ms\tremaining: 12s\n",
      "100:\ttest: 0.5014890\tbest: 0.5442464 (16)\ttotal: 2.9s\tremaining: 11.4s\n",
      "200:\ttest: 0.5114005\tbest: 0.5442464 (16)\ttotal: 5.17s\tremaining: 7.7s\n",
      "300:\ttest: 0.5010889\tbest: 0.5442464 (16)\ttotal: 7.46s\tremaining: 4.93s\n",
      "400:\ttest: 0.5004222\tbest: 0.5442464 (16)\ttotal: 9.9s\tremaining: 2.44s\n",
      "499:\ttest: 0.4947331\tbest: 0.5442464 (16)\ttotal: 12.1s\tremaining: 0us\n",
      "\n",
      "bestTest = 0.544246411\n",
      "bestIteration = 16\n",
      "\n",
      "Shrink model to first 17 iterations.\n",
      "\n",
      "CatBoost ROC-AUC (базовый): 0.5442\n"
     ]
    },
    {
     "name": "stderr",
     "output_type": "stream",
     "text": [
      "C:\\Users\\den19\\AppData\\Local\\Programs\\Python\\Python312\\Lib\\site-packages\\xgboost\\training.py:183: UserWarning: [14:27:58] WARNING: C:\\actions-runner\\_work\\xgboost\\xgboost\\src\\learner.cc:738: \n",
      "Parameters: { \"use_label_encoder\" } are not used.\n",
      "\n",
      "  bst.update(dtrain, iteration=i, fobj=obj)\n"
     ]
    },
    {
     "name": "stdout",
     "output_type": "stream",
     "text": [
      "XGBoost ROC-AUC (базовый): 0.4904\n"
     ]
    },
    {
     "name": "stderr",
     "output_type": "stream",
     "text": [
      "C:\\Users\\den19\\AppData\\Local\\Programs\\Python\\Python312\\Lib\\site-packages\\xgboost\\training.py:183: UserWarning: [14:27:58] WARNING: C:\\actions-runner\\_work\\xgboost\\xgboost\\src\\learner.cc:738: \n",
      "Parameters: { \"use_label_encoder\" } are not used.\n",
      "\n",
      "  bst.update(dtrain, iteration=i, fobj=obj)\n"
     ]
    },
    {
     "name": "stdout",
     "output_type": "stream",
     "text": [
      "XGBoost ROC-AUC (настроенный): 0.4998\n",
      "\n",
      "Сравнение результатов:\n",
      "CatBoost (базовый): 0.5442\n",
      "XGBoost (базовый): 0.4904\n",
      "XGBoost (настроенный): 0.4998\n",
      "\n",
      "CatBoost показал результат лучше настроенного XGBoost!\n"
     ]
    }
   ],
   "source": [
    "import pandas as pd\n",
    "import numpy as np\n",
    "from sklearn.model_selection import train_test_split\n",
    "from catboost import CatBoostClassifier, Pool\n",
    "from xgboost import XGBClassifier\n",
    "from sklearn.metrics import roc_auc_score\n",
    "\n",
    "# Загрузка данных\n",
    "data = pd.DataFrame({col: [0] * 1000 for col in [\n",
    "    'TransactionID', 'isFraud', 'TransactionDT', 'TransactionAmt', 'ProductCD',\n",
    "    'card1', 'card2', 'card3', 'card4', 'card5', 'card6', 'addr1', 'addr2',\n",
    "    'dist1', 'dist2', 'P_emaildomain', 'R_emaildomain', \n",
    "    'C1', 'C2', 'C3', 'C4', 'C5', 'C6', 'C7', 'C8', 'C9', 'C10', 'C11', 'C12',\n",
    "    'C13', 'C14', 'D1', 'D2', 'D3', 'D4', 'D5', 'D6', 'D7', 'D8', 'D9', 'D10',\n",
    "    'D11', 'D12', 'D13', 'D14', 'D15', 'M1', 'M2', 'M3', 'M4', 'M5', 'M6', 'M7',\n",
    "    'M8', 'M9'] + [f'V{i}' for i in range(1, 340)]})\n",
    "\n",
    "# Добавим случайные данные для примера\n",
    "for col in data.columns:\n",
    "    if col.startswith(('C', 'D', 'V')):\n",
    "        data[col] = np.random.randint(0, 10, size=len(data))\n",
    "    elif col in ['ProductCD', 'card4', 'card6', 'M1', 'M2', 'M3', 'M4', 'M5', 'M6', 'M7', 'M8', 'M9']:\n",
    "        data[col] = np.random.choice(['A', 'B', 'C', 'D'], size=len(data))\n",
    "\n",
    "data['isFraud'] = np.random.randint(0, 2, size=len(data))\n",
    "\n",
    "# Разделение данных\n",
    "X = data.drop(['isFraud', 'TransactionID'], axis=1)\n",
    "y = data['isFraud']\n",
    "X_train, X_test, y_train, y_test = train_test_split(X, y, test_size=0.3, random_state=42, stratify=y)\n",
    "\n",
    "# Преобразование категориальных признаков для XGBoost\n",
    "cat_features = ['ProductCD', 'card4', 'card6'] + [f'M{i}' for i in range(1, 10)]\n",
    "for col in cat_features:\n",
    "    X_train[col] = X_train[col].astype('category').cat.codes\n",
    "    X_test[col] = X_test[col].astype('category').cat.codes\n",
    "\n",
    "# 1. CatBoost \"из коробки\"\n",
    "cat_features_indices = [X.columns.get_loc(col) for col in cat_features]\n",
    "train_pool = Pool(X_train, y_train, cat_features=cat_features_indices)\n",
    "test_pool = Pool(X_test, y_test, cat_features=cat_features_indices)\n",
    "\n",
    "catboost_model = CatBoostClassifier(\n",
    "    iterations=500,\n",
    "    learning_rate=0.05,\n",
    "    depth=6,\n",
    "    eval_metric='AUC',\n",
    "    random_seed=42,\n",
    "    verbose=100\n",
    ")\n",
    "\n",
    "catboost_model.fit(train_pool, eval_set=test_pool)\n",
    "catboost_pred = catboost_model.predict_proba(test_pool)[:, 1]\n",
    "catboost_auc = roc_auc_score(y_test, catboost_pred)\n",
    "print(f\"\\nCatBoost ROC-AUC (базовый): {catboost_auc:.4f}\")\n",
    "\n",
    "# 2. XGBoost \"из коробки\"\n",
    "xgb_model = XGBClassifier(\n",
    "    objective='binary:logistic',\n",
    "    random_state=42,\n",
    "    eval_metric='auc',\n",
    "    use_label_encoder=False\n",
    ")\n",
    "\n",
    "xgb_model.fit(X_train, y_train)\n",
    "xgb_pred = xgb_model.predict_proba(X_test)[:, 1]\n",
    "xgb_auc = roc_auc_score(y_test, xgb_pred)\n",
    "print(f\"XGBoost ROC-AUC (базовый): {xgb_auc:.4f}\")\n",
    "\n",
    "# 3. Настроенный XGBoost\n",
    "tuned_xgb = XGBClassifier(\n",
    "    objective='binary:logistic',\n",
    "    random_state=42,\n",
    "    eval_metric='auc',\n",
    "    use_label_encoder=False,\n",
    "    learning_rate=0.01,  # уменьшенный learning rate\n",
    "    n_estimators=1000,  # больше деревьев\n",
    "    max_depth=8,        # увеличина глубина\n",
    "    min_child_weight=5, # регуляризация\n",
    "    gamma=0.5,         # минимальное снижение потерь для разделения\n",
    "    subsample=0.8,      # случайные подвыборки строк\n",
    "    colsample_bytree=0.8, # случайные подвыборки столбцов\n",
    "    reg_alpha=0.1,      # L1 регуляризация\n",
    "    reg_lambda=1.0,     # L2 регуляризация\n",
    "    scale_pos_weight=1  # полезно при дисбалансе классов\n",
    ")\n",
    "\n",
    "tuned_xgb.fit(X_train, y_train)\n",
    "tuned_xgb_pred = tuned_xgb.predict_proba(X_test)[:, 1]\n",
    "tuned_xgb_auc = roc_auc_score(y_test, tuned_xgb_pred)\n",
    "print(f\"XGBoost ROC-AUC (настроенный): {tuned_xgb_auc:.4f}\")\n",
    "\n",
    "# Сравнение результатов\n",
    "print(\"\\nСравнение результатов:\")\n",
    "print(f\"CatBoost (базовый): {catboost_auc:.4f}\")\n",
    "print(f\"XGBoost (базовый): {xgb_auc:.4f}\")\n",
    "print(f\"XGBoost (настроенный): {tuned_xgb_auc:.4f}\")\n",
    "\n",
    "if tuned_xgb_auc > catboost_auc:\n",
    "    print(\"\\nНастроенный XGBoost показал результат лучше CatBoost!\")\n",
    "elif tuned_xgb_auc < catboost_auc:\n",
    "    print(\"\\nCatBoost показал результат лучше настроенного XGBoost!\")\n",
    "else:\n",
    "    print(\"\\nРезультаты CatBoost и настроенного XGBoost одинаковы!\")"
   ]
  },
  {
   "cell_type": "code",
   "execution_count": null,
   "id": "272e3f00-0755-41c3-aa95-8d1960dd1d59",
   "metadata": {},
   "outputs": [],
   "source": []
  }
 ],
 "metadata": {
  "kernelspec": {
   "display_name": "Python 3 (ipykernel)",
   "language": "python",
   "name": "python3"
  },
  "language_info": {
   "codemirror_mode": {
    "name": "ipython",
    "version": 3
   },
   "file_extension": ".py",
   "mimetype": "text/x-python",
   "name": "python",
   "nbconvert_exporter": "python",
   "pygments_lexer": "ipython3",
   "version": "3.12.4"
  }
 },
 "nbformat": 4,
 "nbformat_minor": 5
}
