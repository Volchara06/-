{
 "cells": [
  {
   "cell_type": "code",
   "execution_count": 2,
   "id": "bfb36bb5-b254-410e-91f1-0690730d3fb5",
   "metadata": {},
   "outputs": [
    {
     "name": "stdout",
     "output_type": "stream",
     "text": [
      "0:\ttest: 0.5076014\tbest: 0.5076014 (0)\ttotal: 172ms\tremaining: 1m 26s\n",
      "100:\ttest: 0.4852418\tbest: 0.5681454 (47)\ttotal: 2.9s\tremaining: 11.5s\n",
      "200:\ttest: 0.4940434\tbest: 0.5681454 (47)\ttotal: 5.29s\tremaining: 7.87s\n",
      "300:\ttest: 0.5011558\tbest: 0.5681454 (47)\ttotal: 7.78s\tremaining: 5.14s\n",
      "400:\ttest: 0.4739065\tbest: 0.5681454 (47)\ttotal: 10.3s\tremaining: 2.54s\n",
      "499:\ttest: 0.4802632\tbest: 0.5681454 (47)\ttotal: 12.8s\tremaining: 0us\n",
      "\n",
      "bestTest = 0.5681454481\n",
      "bestIteration = 47\n",
      "\n",
      "Shrink model to first 48 iterations.\n",
      "CatBoost ROC-AUC: 0.5681\n"
     ]
    }
   ],
   "source": [
    "import pandas as pd\n",
    "from sklearn.model_selection import train_test_split\n",
    "from catboost import CatBoostClassifier, Pool\n",
    "from sklearn.metrics import roc_auc_score\n",
    "\n",
    "# Загрузка данных\n",
    "# data = pd.read_csv('your_data.csv')\n",
    "# Для примера создадим DataFrame с аналогичной структурой\n",
    "data = pd.DataFrame({col: [0] * 1000 for col in [\n",
    "    'TransactionID', 'isFraud', 'TransactionDT', 'TransactionAmt', 'ProductCD',\n",
    "    'card1', 'card2', 'card3', 'card4', 'card5', 'card6', 'addr1', 'addr2',\n",
    "    'dist1', 'dist2', 'P_emaildomain', 'R_emaildomain', \n",
    "    'C1', 'C2', 'C3', 'C4', 'C5', 'C6', 'C7', 'C8', 'C9', 'C10', 'C11', 'C12',\n",
    "    'C13', 'C14', 'D1', 'D2', 'D3', 'D4', 'D5', 'D6', 'D7', 'D8', 'D9', 'D10',\n",
    "    'D11', 'D12', 'D13', 'D14', 'D15', 'M1', 'M2', 'M3', 'M4', 'M5', 'M6', 'M7',\n",
    "    'M8', 'M9'] + [f'V{i}' for i in range(1, 340)]})\n",
    "\n",
    "# Добавим случайные данные для примера\n",
    "import numpy as np\n",
    "for col in data.columns:\n",
    "    if col.startswith(('C', 'D', 'V')):\n",
    "        data[col] = np.random.randint(0, 10, size=len(data))\n",
    "    elif col in ['ProductCD', 'card4', 'card6', 'M1', 'M2', 'M3', 'M4', 'M5', 'M6', 'M7', 'M8', 'M9']:\n",
    "        data[col] = np.random.choice(['A', 'B', 'C', 'D'], size=len(data))\n",
    "\n",
    "data['isFraud'] = np.random.randint(0, 2, size=len(data))\n",
    "\n",
    "# Разделение данных\n",
    "X = data.drop(['isFraud', 'TransactionID'], axis=1)  # Удаляем ID и целевую переменную\n",
    "y = data['isFraud']\n",
    "X_train, X_test, y_train, y_test = train_test_split(X, y, test_size=0.3, random_state=42, stratify=y)\n",
    "\n",
    "# Определяем категориальные признаки\n",
    "cat_features = ['ProductCD', 'card4', 'card6'] + [f'M{i}' for i in range(1, 10)]\n",
    "\n",
    "# Преобразуем категориальные признаки в строковый тип\n",
    "for col in cat_features:\n",
    "    X_train[col] = X_train[col].astype(str)\n",
    "    X_test[col] = X_test[col].astype(str)\n",
    "\n",
    "# Создаем Pool для CatBoost\n",
    "train_pool = Pool(X_train, y_train, cat_features=cat_features)\n",
    "test_pool = Pool(X_test, y_test, cat_features=cat_features)\n",
    "\n",
    "# Обучение CatBoost\n",
    "catboost_model = CatBoostClassifier(\n",
    "    iterations=500,\n",
    "    learning_rate=0.05,\n",
    "    depth=6,\n",
    "    eval_metric='AUC',\n",
    "    random_seed=42,\n",
    "    verbose=100\n",
    ")\n",
    "\n",
    "catboost_model.fit(train_pool, eval_set=test_pool)\n",
    "\n",
    "# Предсказания\n",
    "catboost_pred = catboost_model.predict_proba(test_pool)[:, 1]\n",
    "catboost_auc = roc_auc_score(y_test, catboost_pred)\n",
    "print(f\"CatBoost ROC-AUC: {catboost_auc:.4f}\")"
   ]
  },
  {
   "cell_type": "code",
   "execution_count": null,
   "id": "476030fa-88c4-40ea-babb-40a10fa8244b",
   "metadata": {},
   "outputs": [],
   "source": []
  }
 ],
 "metadata": {
  "kernelspec": {
   "display_name": "Python 3 (ipykernel)",
   "language": "python",
   "name": "python3"
  },
  "language_info": {
   "codemirror_mode": {
    "name": "ipython",
    "version": 3
   },
   "file_extension": ".py",
   "mimetype": "text/x-python",
   "name": "python",
   "nbconvert_exporter": "python",
   "pygments_lexer": "ipython3",
   "version": "3.12.4"
  }
 },
 "nbformat": 4,
 "nbformat_minor": 5
}
